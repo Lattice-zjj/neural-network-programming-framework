{
 "cells": [
  {
   "cell_type": "markdown",
   "metadata": {},
   "source": [
    "### Test for topo sort and compute gradient"
   ]
  },
  {
   "cell_type": "code",
   "execution_count": 4,
   "metadata": {},
   "outputs": [
    {
     "name": "stdout",
     "output_type": "stream",
     "text": [
      "\u001b[1m============================= test session starts =============================\u001b[0m\n",
      "platform win32 -- Python 3.8.13, pytest-7.2.0, pluggy-1.0.0\n",
      "rootdir: d:\\ai\\second\\神经网络\\nnwf\n",
      "plugins: anyio-4.0.0\n",
      "collected 2 items / 1 deselected / 1 selected\n",
      "\n",
      "tests\\test_autograd_hw.py \u001b[32m.\u001b[0m\u001b[32m                                              [100%]\u001b[0m\n",
      "\n",
      "\u001b[32m======================= \u001b[32m\u001b[1m1 passed\u001b[0m, \u001b[33m1 deselected\u001b[0m\u001b[32m in 0.79s\u001b[0m\u001b[32m =======================\u001b[0m\n"
     ]
    }
   ],
   "source": [
    "!python -m pytest -k \"compute_gradient\" --color=yes"
   ]
  },
  {
   "cell_type": "code",
   "execution_count": 5,
   "metadata": {},
   "outputs": [
    {
     "name": "stdout",
     "output_type": "stream",
     "text": [
      "\u001b[1m============================= test session starts =============================\u001b[0m\n",
      "platform win32 -- Python 3.8.13, pytest-7.2.0, pluggy-1.0.0\n",
      "rootdir: d:\\ai\\second\\神经网络\\nnwf\n",
      "plugins: anyio-4.0.0\n",
      "collected 2 items / 1 deselected / 1 selected\n",
      "\n",
      "tests\\test_autograd_hw.py \u001b[32m.\u001b[0m\u001b[32m                                              [100%]\u001b[0m\n",
      "\n",
      "\u001b[32m======================= \u001b[32m\u001b[1m1 passed\u001b[0m, \u001b[33m1 deselected\u001b[0m\u001b[32m in 0.81s\u001b[0m\u001b[32m =======================\u001b[0m\n"
     ]
    }
   ],
   "source": [
    "!python -m pytest -k \"topo_sort\" --color=yes"
   ]
  },
  {
   "cell_type": "markdown",
   "metadata": {},
   "source": [
    "### Test for train model"
   ]
  },
  {
   "cell_type": "code",
   "execution_count": 12,
   "metadata": {},
   "outputs": [
    {
     "name": "stdout",
     "output_type": "stream",
     "text": [
      "Epoch 1/10 - Training Error: 0.3194, Training Loss: 1.0180\n",
      "Epoch 2/10 - Training Error: 0.1422, Training Loss: 0.4710\n",
      "Epoch 3/10 - Training Error: 0.1126, Training Loss: 0.3730\n",
      "Epoch 4/10 - Training Error: 0.0965, Training Loss: 0.3224\n",
      "Epoch 5/10 - Training Error: 0.0856, Training Loss: 0.2890\n",
      "Epoch 6/10 - Training Error: 0.0783, Training Loss: 0.2645\n",
      "Epoch 7/10 - Training Error: 0.0729, Training Loss: 0.2453\n",
      "Epoch 8/10 - Training Error: 0.0684, Training Loss: 0.2293\n",
      "Epoch 9/10 - Training Error: 0.0643, Training Loss: 0.2157\n",
      "Epoch 10/10 - Training Error: 0.0606, Training Loss: 0.2038\n",
      "Test Error: 0.0524, Test Loss: 0.1792\n"
     ]
    }
   ],
   "source": [
    "!python mlp_resnet.py --dataset mnist"
   ]
  },
  {
   "cell_type": "code",
   "execution_count": 11,
   "metadata": {},
   "outputs": [
    {
     "name": "stdout",
     "output_type": "stream",
     "text": [
      "Epoch 1/10 - Training Error: 0.3358, Training Loss: 1.0205\n",
      "Epoch 2/10 - Training Error: 0.2247, Training Loss: 0.6420\n",
      "Epoch 3/10 - Training Error: 0.1988, Training Loss: 0.5608\n",
      "Epoch 4/10 - Training Error: 0.1841, Training Loss: 0.5155\n",
      "Epoch 5/10 - Training Error: 0.1735, Training Loss: 0.4854\n",
      "Epoch 6/10 - Training Error: 0.1659, Training Loss: 0.4632\n",
      "Epoch 7/10 - Training Error: 0.1591, Training Loss: 0.4455\n",
      "Epoch 8/10 - Training Error: 0.1541, Training Loss: 0.4307\n",
      "Epoch 9/10 - Training Error: 0.1492, Training Loss: 0.4182\n",
      "Epoch 10/10 - Training Error: 0.1462, Training Loss: 0.4073\n",
      "Test Error: 0.1508, Test Loss: 0.4218\n"
     ]
    }
   ],
   "source": [
    "!python mlp_resnet.py --dataset fashionmnist"
   ]
  }
 ],
 "metadata": {
  "kernelspec": {
   "display_name": "snores",
   "language": "python",
   "name": "python3"
  },
  "language_info": {
   "codemirror_mode": {
    "name": "ipython",
    "version": 3
   },
   "file_extension": ".py",
   "mimetype": "text/x-python",
   "name": "python",
   "nbconvert_exporter": "python",
   "pygments_lexer": "ipython3",
   "version": "3.8.13"
  }
 },
 "nbformat": 4,
 "nbformat_minor": 2
}
